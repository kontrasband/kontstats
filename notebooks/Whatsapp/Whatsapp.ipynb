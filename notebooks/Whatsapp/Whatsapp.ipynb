{
 "cells": [
  {
   "cell_type": "markdown",
   "metadata": {},
   "source": [
    "# Whatsapp API"
   ]
  },
  {
   "cell_type": "markdown",
   "metadata": {},
   "source": [
    "## Introduction"
   ]
  },
  {
   "cell_type": "markdown",
   "metadata": {},
   "source": [
    "Following <a href='https://www.twilio.com/blog/send-whatsapp-message-30-seconds-python'>this</a> tutorial to set up a way to send a Whatsapp to our band group."
   ]
  },
  {
   "cell_type": "markdown",
   "metadata": {},
   "source": [
    "## Setup"
   ]
  },
  {
   "cell_type": "markdown",
   "metadata": {},
   "source": [
    "### Imports"
   ]
  },
  {
   "cell_type": "code",
   "execution_count": null,
   "metadata": {
    "ExecuteTime": {
     "end_time": "2019-12-30T12:17:13.125678Z",
     "start_time": "2019-12-30T12:17:13.008237Z"
    }
   },
   "outputs": [],
   "source": [
    "import os\n",
    "import configparser\n",
    "from twilio.rest import Client"
   ]
  },
  {
   "cell_type": "code",
   "execution_count": null,
   "metadata": {
    "ExecuteTime": {
     "end_time": "2019-12-30T12:17:13.146246Z",
     "start_time": "2019-12-30T12:17:13.140839Z"
    }
   },
   "outputs": [],
   "source": [
    "config = configparser.ConfigParser()\n",
    "config.read('../config.ini')\n",
    "\n",
    "TWILIO_ACCOUNT_SID = config['TWILLIO']['TWILIO_ACCOUNT_SID']\n",
    "TWILIO_AUTH_TOKEN = config['TWILLIO']['TWILIO_AUTH_TOKEN']\n",
    "TWILLIO_SANDBOX_WA = config['TWILLIO']['TWILLIO_SANDBOX_WA']\n",
    "KONT_WA = config['TWILLIO']['KONT_WA']\n",
    "MY_WA = config['TWILLIO']['MY_WA']"
   ]
  },
  {
   "cell_type": "code",
   "execution_count": null,
   "metadata": {
    "ExecuteTime": {
     "end_time": "2019-12-30T12:17:13.291527Z",
     "start_time": "2019-12-30T12:17:13.287815Z"
    }
   },
   "outputs": [],
   "source": [
    "os.environ['TWILIO_ACCOUNT_SID'] = TWILIO_ACCOUNT_SID\n",
    "os.environ['TWILIO_AUTH_TOKEN'] = TWILIO_AUTH_TOKEN"
   ]
  },
  {
   "cell_type": "code",
   "execution_count": null,
   "metadata": {
    "ExecuteTime": {
     "end_time": "2019-12-30T12:19:37.866039Z",
     "start_time": "2019-12-30T12:19:37.738117Z"
    }
   },
   "outputs": [],
   "source": [
    "!echo $TWILIO_ACCOUNT_SID"
   ]
  },
  {
   "cell_type": "code",
   "execution_count": null,
   "metadata": {
    "ExecuteTime": {
     "end_time": "2019-12-30T12:17:15.200558Z",
     "start_time": "2019-12-30T12:17:13.548687Z"
    }
   },
   "outputs": [],
   "source": [
    "# client credentials are read from TWILIO_ACCOUNT_SID and AUTH_TOKEN\n",
    "client = Client()\n",
    "\n",
    "# this is the Twilio sandbox testing number\n",
    "from_whatsapp_number=KONT_WA\n",
    "# replace this number with your own WhatsApp Messaging number\n",
    "to_whatsapp_number=MY_WA\n",
    "\n",
    "client.messages.create(body='Ahoy, world!',\n",
    "#                        application_sid=TWILIO_ACCOUNT_SID,\n",
    "                       from_=from_whatsapp_number,\n",
    "                       to=to_whatsapp_number)"
   ]
  }
 ],
 "metadata": {
  "kernelspec": {
   "display_name": "Python 3",
   "language": "python",
   "name": "python3"
  },
  "language_info": {
   "codemirror_mode": {
    "name": "ipython",
    "version": 3
   },
   "file_extension": ".py",
   "mimetype": "text/x-python",
   "name": "python",
   "nbconvert_exporter": "python",
   "pygments_lexer": "ipython3",
   "version": "3.7.4"
  },
  "toc": {
   "base_numbering": 1,
   "nav_menu": {},
   "number_sections": true,
   "sideBar": true,
   "skip_h1_title": true,
   "title_cell": "Table of Contents",
   "title_sidebar": "Contents",
   "toc_cell": false,
   "toc_position": {
    "height": "calc(100% - 180px)",
    "left": "10px",
    "top": "150px",
    "width": "336px"
   },
   "toc_section_display": true,
   "toc_window_display": true
  }
 },
 "nbformat": 4,
 "nbformat_minor": 2
}
