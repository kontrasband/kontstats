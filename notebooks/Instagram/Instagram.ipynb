{
 "cells": [
  {
   "cell_type": "markdown",
   "metadata": {},
   "source": [
    "# Instagram"
   ]
  },
  {
   "cell_type": "markdown",
   "metadata": {},
   "source": [
    "## Introduction"
   ]
  },
  {
   "cell_type": "markdown",
   "metadata": {},
   "source": [
    "## Setup"
   ]
  },
  {
   "cell_type": "markdown",
   "metadata": {},
   "source": [
    "### Imports"
   ]
  },
  {
   "cell_type": "code",
   "execution_count": null,
   "metadata": {
    "ExecuteTime": {
     "end_time": "2020-01-01T18:23:02.201167Z",
     "start_time": "2020-01-01T18:23:01.130125Z"
    }
   },
   "outputs": [],
   "source": [
    "import sys\n",
    "sys.path.append('../../src/')\n",
    "\n",
    "from InstagramAPI import InstagramAPI\n",
    "from auth.insta_auth import LoginChallenge\n",
    "import configparser\n",
    "import pandas as pd\n",
    "import plotly.express as px"
   ]
  },
  {
   "cell_type": "code",
   "execution_count": null,
   "metadata": {
    "ExecuteTime": {
     "end_time": "2020-01-01T18:23:02.206379Z",
     "start_time": "2020-01-01T18:23:02.203235Z"
    }
   },
   "outputs": [],
   "source": [
    "pd.options.display.max_columns = 100"
   ]
  },
  {
   "cell_type": "markdown",
   "metadata": {},
   "source": [
    "### Authorise Client Device"
   ]
  },
  {
   "cell_type": "code",
   "execution_count": null,
   "metadata": {
    "ExecuteTime": {
     "end_time": "2020-01-01T18:23:02.213462Z",
     "start_time": "2020-01-01T18:23:02.208623Z"
    }
   },
   "outputs": [],
   "source": [
    "config = configparser.ConfigParser()\n",
    "config.read('../../src/config.ini')\n",
    "\n",
    "KONT_U = config['INSTAGRAM']['KONT_USERNAME']\n",
    "KONT_P = config['INSTAGRAM']['KONT_PASSWORD']"
   ]
  },
  {
   "cell_type": "markdown",
   "metadata": {},
   "source": [
    "You should only have to run the below code once."
   ]
  },
  {
   "cell_type": "code",
   "execution_count": null,
   "metadata": {
    "ExecuteTime": {
     "end_time": "2020-01-01T18:23:08.977014Z",
     "start_time": "2020-01-01T18:23:02.215830Z"
    }
   },
   "outputs": [],
   "source": [
    "LC = LoginChallenge(username=KONT_U, \n",
    "                    password=KONT_P)\n",
    "LC.init_challenge()"
   ]
  },
  {
   "cell_type": "markdown",
   "metadata": {},
   "source": [
    "### Connect"
   ]
  },
  {
   "cell_type": "code",
   "execution_count": null,
   "metadata": {
    "ExecuteTime": {
     "start_time": "2020-01-01T18:20:24.838Z"
    }
   },
   "outputs": [],
   "source": [
    "api = InstagramAPI(username=KONT_U,\n",
    "                   password=KONT_P, \n",
    "                   debug=True)\n",
    "api.login()"
   ]
  },
  {
   "cell_type": "code",
   "execution_count": null,
   "metadata": {
    "ExecuteTime": {
     "start_time": "2020-01-01T18:20:25.408Z"
    }
   },
   "outputs": [],
   "source": [
    "api.isLoggedIn"
   ]
  },
  {
   "cell_type": "markdown",
   "metadata": {},
   "source": [
    "## Getting Stats"
   ]
  },
  {
   "cell_type": "markdown",
   "metadata": {},
   "source": [
    "### Followers"
   ]
  },
  {
   "cell_type": "code",
   "execution_count": null,
   "metadata": {
    "ExecuteTime": {
     "end_time": "2019-12-31T12:07:29.620292Z",
     "start_time": "2019-12-31T12:07:27.092543Z"
    }
   },
   "outputs": [],
   "source": [
    "followers = api.getTotalSelfFollowers()"
   ]
  },
  {
   "cell_type": "code",
   "execution_count": null,
   "metadata": {
    "ExecuteTime": {
     "end_time": "2019-12-31T12:07:29.627962Z",
     "start_time": "2019-12-31T12:07:29.622628Z"
    }
   },
   "outputs": [],
   "source": [
    "len(followers)"
   ]
  },
  {
   "cell_type": "code",
   "execution_count": null,
   "metadata": {
    "ExecuteTime": {
     "end_time": "2019-12-31T12:07:29.635751Z",
     "start_time": "2019-12-31T12:07:29.630434Z"
    }
   },
   "outputs": [],
   "source": [
    "followers[0]"
   ]
  },
  {
   "cell_type": "code",
   "execution_count": null,
   "metadata": {
    "ExecuteTime": {
     "end_time": "2019-12-31T12:07:29.658373Z",
     "start_time": "2019-12-31T12:07:29.638132Z"
    }
   },
   "outputs": [],
   "source": [
    "followers_df = pd.DataFrame(followers)\n",
    "followers_df.head()"
   ]
  },
  {
   "cell_type": "code",
   "execution_count": null,
   "metadata": {
    "ExecuteTime": {
     "end_time": "2019-12-31T12:07:31.401105Z",
     "start_time": "2019-12-31T12:07:31.394003Z"
    }
   },
   "outputs": [],
   "source": [
    "followers_df.is_verified.value_counts()"
   ]
  },
  {
   "cell_type": "code",
   "execution_count": null,
   "metadata": {
    "ExecuteTime": {
     "end_time": "2019-12-31T12:07:31.649216Z",
     "start_time": "2019-12-31T12:07:31.641929Z"
    }
   },
   "outputs": [],
   "source": [
    "followers_df.has_anonymous_profile_picture.value_counts()"
   ]
  },
  {
   "cell_type": "code",
   "execution_count": null,
   "metadata": {
    "ExecuteTime": {
     "end_time": "2019-12-31T12:07:31.824360Z",
     "start_time": "2019-12-31T12:07:31.817811Z"
    }
   },
   "outputs": [],
   "source": [
    "followers_df.is_private.value_counts()"
   ]
  },
  {
   "cell_type": "markdown",
   "metadata": {},
   "source": [
    "### What would we like to extract"
   ]
  },
  {
   "cell_type": "markdown",
   "metadata": {},
   "source": [
    "From the `timeline` endpoint we can get items and their associated comment comment_count, like_count, top_likers, view_count, follower_count post_count, "
   ]
  },
  {
   "cell_type": "markdown",
   "metadata": {},
   "source": [
    "#### Profile Data"
   ]
  },
  {
   "cell_type": "code",
   "execution_count": null,
   "metadata": {
    "ExecuteTime": {
     "end_time": "2019-12-31T12:17:44.453379Z",
     "start_time": "2019-12-31T12:17:40.775086Z"
    }
   },
   "outputs": [],
   "source": [
    "api.getProfileData()\n",
    "\n",
    "profile_data = api.LastJson\n",
    "\n",
    "profile_data['user'].keys()"
   ]
  },
  {
   "cell_type": "code",
   "execution_count": null,
   "metadata": {
    "ExecuteTime": {
     "end_time": "2019-12-31T12:15:37.215379Z",
     "start_time": "2019-12-31T12:15:36.559291Z"
    }
   },
   "outputs": [],
   "source": [
    "api.getUsernameInfo('jankieplankie_')"
   ]
  },
  {
   "cell_type": "code",
   "execution_count": null,
   "metadata": {
    "ExecuteTime": {
     "end_time": "2019-12-31T12:07:57.061475Z",
     "start_time": "2019-12-31T12:07:54.980096Z"
    }
   },
   "outputs": [],
   "source": [
    "api.timelineUserFeed('jankieplankie_')"
   ]
  },
  {
   "cell_type": "code",
   "execution_count": null,
   "metadata": {
    "ExecuteTime": {
     "end_time": "2019-12-31T12:08:04.622006Z",
     "start_time": "2019-12-31T12:08:04.619195Z"
    }
   },
   "outputs": [],
   "source": [
    "feed = api.LastJson"
   ]
  },
  {
   "cell_type": "code",
   "execution_count": null,
   "metadata": {
    "ExecuteTime": {
     "end_time": "2019-12-31T12:13:43.402327Z",
     "start_time": "2019-12-31T12:13:43.294149Z"
    }
   },
   "outputs": [],
   "source": [
    "feed_df = pd.DataFrame(feed['items'])\n",
    "feed_df.head()"
   ]
  },
  {
   "cell_type": "code",
   "execution_count": null,
   "metadata": {
    "ExecuteTime": {
     "end_time": "2019-12-31T12:09:18.849155Z",
     "start_time": "2019-12-31T12:09:18.843872Z"
    },
    "scrolled": false
   },
   "outputs": [],
   "source": [
    "feed_df.columns"
   ]
  },
  {
   "cell_type": "code",
   "execution_count": null,
   "metadata": {
    "ExecuteTime": {
     "end_time": "2019-12-31T12:13:13.479385Z",
     "start_time": "2019-12-31T12:13:13.463808Z"
    }
   },
   "outputs": [],
   "source": [
    "feed_df[~feed_df.preview.isna()].values[0]"
   ]
  },
  {
   "cell_type": "code",
   "execution_count": null,
   "metadata": {},
   "outputs": [],
   "source": []
  }
 ],
 "metadata": {
  "kernelspec": {
   "display_name": "Python 3",
   "language": "python",
   "name": "python3"
  },
  "language_info": {
   "codemirror_mode": {
    "name": "ipython",
    "version": 3
   },
   "file_extension": ".py",
   "mimetype": "text/x-python",
   "name": "python",
   "nbconvert_exporter": "python",
   "pygments_lexer": "ipython3",
   "version": "3.7.4"
  },
  "toc": {
   "base_numbering": 1,
   "nav_menu": {},
   "number_sections": true,
   "sideBar": true,
   "skip_h1_title": true,
   "title_cell": "Table of Contents",
   "title_sidebar": "Contents",
   "toc_cell": false,
   "toc_position": {},
   "toc_section_display": true,
   "toc_window_display": true
  }
 },
 "nbformat": 4,
 "nbformat_minor": 2
}
