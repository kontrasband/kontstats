{
 "cells": [
  {
   "cell_type": "markdown",
   "metadata": {},
   "source": [
    "# Google Sheets"
   ]
  },
  {
   "cell_type": "markdown",
   "metadata": {},
   "source": [
    "## Introduction"
   ]
  },
  {
   "cell_type": "markdown",
   "metadata": {},
   "source": [
    "We need to write to google sheets"
   ]
  },
  {
   "cell_type": "markdown",
   "metadata": {},
   "source": [
    "## Setup"
   ]
  },
  {
   "cell_type": "markdown",
   "metadata": {},
   "source": [
    "### Imports"
   ]
  },
  {
   "cell_type": "code",
   "execution_count": null,
   "metadata": {
    "ExecuteTime": {
     "end_time": "2019-12-31T13:05:05.762603Z",
     "start_time": "2019-12-31T13:05:05.759103Z"
    }
   },
   "outputs": [],
   "source": [
    "from datetime import datetime\n",
    "import pandas as pd\n",
    "import string\n",
    "\n",
    "import gspread\n",
    "from oauth2client.service_account import ServiceAccountCredentials"
   ]
  },
  {
   "cell_type": "markdown",
   "metadata": {
    "ExecuteTime": {
     "end_time": "2019-12-31T12:40:58.662578Z",
     "start_time": "2019-12-31T12:40:57.684983Z"
    }
   },
   "source": [
    "## Get Sheet"
   ]
  },
  {
   "cell_type": "code",
   "execution_count": null,
   "metadata": {
    "ExecuteTime": {
     "end_time": "2019-12-31T13:07:32.894626Z",
     "start_time": "2019-12-31T13:07:32.886724Z"
    }
   },
   "outputs": [],
   "source": [
    "class GSheet(object):\n",
    "    def __init__(self, keyfile='./kontstats-d1e621a98972.json'):\n",
    "        scope = ['https://spreadsheets.google.com/feeds','https://www.googleapis.com/auth/drive']\n",
    "        creds = ServiceAccountCredentials.from_json_keyfile_name(keyfile, scope)\n",
    "        self.client = gspread.authorize(creds)\n",
    "    def get_sheet(self):\n",
    "        return self.client.open('kontstats').sheet1\n",
    "    def get_vals(self):\n",
    "        sheet = self.get_sheet()\n",
    "        return sheet.get_all_values()\n",
    "    def add_row(self, row):\n",
    "        \"\"\"\n",
    "        Function that appends row to the bottom of the sheet\n",
    "        \n",
    "        Parameters\n",
    "        row :: list of values to append\n",
    "        \"\"\"\n",
    "        \n",
    "        assert len(row) <= 26, 'Only support up to 26 value at this moment'\n",
    "        \n",
    "        last_row_nr = len(self.get_vals())\n",
    "        for i, value in enumerate(row):\n",
    "            col_letter = string.ascii_uppercase[i]\n",
    "            cell_name = col_letter+str(last_row_nr)\n",
    "            sheet.update_acell(cell_name, value)\n",
    "\n",
    "        return True"
   ]
  },
  {
   "cell_type": "code",
   "execution_count": null,
   "metadata": {
    "ExecuteTime": {
     "end_time": "2019-12-31T13:07:34.300938Z",
     "start_time": "2019-12-31T13:07:33.520719Z"
    }
   },
   "outputs": [],
   "source": [
    "GSheetClient = GSheet()"
   ]
  },
  {
   "cell_type": "code",
   "execution_count": null,
   "metadata": {
    "ExecuteTime": {
     "end_time": "2019-12-31T13:07:45.657825Z",
     "start_time": "2019-12-31T13:07:42.811104Z"
    }
   },
   "outputs": [],
   "source": [
    "GSheetClient.add_row(['Bla', 'blah'])"
   ]
  },
  {
   "cell_type": "code",
   "execution_count": null,
   "metadata": {
    "ExecuteTime": {
     "end_time": "2019-12-31T12:59:34.156598Z",
     "start_time": "2019-12-31T12:59:32.462642Z"
    }
   },
   "outputs": [],
   "source": [
    "sheet = get_sheet(client)\n",
    "all_vals = sheet.get_all_values()\n",
    "\n",
    "colnames = all_vals[0]\n",
    "data = all_vals[1:]\n",
    "df = pd.DataFrame(data,\n",
    "                  columns=colnames)\n",
    "df"
   ]
  },
  {
   "cell_type": "code",
   "execution_count": null,
   "metadata": {
    "ExecuteTime": {
     "end_time": "2019-12-31T12:57:40.711207Z",
     "start_time": "2019-12-31T12:57:39.647817Z"
    }
   },
   "outputs": [],
   "source": [
    "time = today.strftime(\"%d/%m/%Y %H:%M:%S\")\n",
    "sheet.update_acell('A3', time)\n",
    "sheet.update_acell('B3', '656')"
   ]
  },
  {
   "cell_type": "code",
   "execution_count": null,
   "metadata": {},
   "outputs": [],
   "source": []
  }
 ],
 "metadata": {
  "kernelspec": {
   "display_name": "Python 3",
   "language": "python",
   "name": "python3"
  },
  "language_info": {
   "codemirror_mode": {
    "name": "ipython",
    "version": 3
   },
   "file_extension": ".py",
   "mimetype": "text/x-python",
   "name": "python",
   "nbconvert_exporter": "python",
   "pygments_lexer": "ipython3",
   "version": "3.7.4"
  },
  "toc": {
   "base_numbering": 1,
   "nav_menu": {},
   "number_sections": true,
   "sideBar": true,
   "skip_h1_title": true,
   "title_cell": "Table of Contents",
   "title_sidebar": "Contents",
   "toc_cell": false,
   "toc_position": {},
   "toc_section_display": true,
   "toc_window_display": true
  }
 },
 "nbformat": 4,
 "nbformat_minor": 2
}
