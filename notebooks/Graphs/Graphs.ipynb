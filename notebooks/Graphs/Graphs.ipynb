{
 "cells": [
  {
   "cell_type": "markdown",
   "metadata": {},
   "source": [
    "# Graphs"
   ]
  },
  {
   "cell_type": "markdown",
   "metadata": {},
   "source": [
    "## Setup"
   ]
  },
  {
   "cell_type": "code",
   "execution_count": null,
   "metadata": {
    "ExecuteTime": {
     "end_time": "2020-01-04T01:20:13.353347Z",
     "start_time": "2020-01-04T01:20:11.854966Z"
    }
   },
   "outputs": [],
   "source": [
    "import sys\n",
    "sys.path.append('../../src/')\n",
    "\n",
    "from utils.bot import Bot\n",
    "from configparser import ConfigParser\n",
    "import plotly.express as px\n",
    "from pathlib import Path\n",
    "import pandas as pd"
   ]
  },
  {
   "cell_type": "code",
   "execution_count": null,
   "metadata": {
    "ExecuteTime": {
     "end_time": "2020-01-04T01:20:13.362213Z",
     "start_time": "2020-01-04T01:20:13.355181Z"
    }
   },
   "outputs": [],
   "source": [
    "config_file = Path('../../src/config.ini')\n",
    "assert config_file.exists(), f'{config_file} doesn\\'t exist.'\n",
    "config = ConfigParser()\n",
    "config.read(config_file)\n",
    "\n",
    "insta_u, insta_p = config['INSTAGRAM']['KONT_USERNAME'], config['INSTAGRAM']['KONT_PASSWORD']\n",
    "google_key_file = '../../src/keys/kontstats-d1e621a98972.json'\n",
    "google_api_key = config['GOOGLE']['API_KEY']\n",
    "spotify_client_id = config['SPOTIFY']['CLIENT_ID']\n",
    "spotify_client_secret = config['SPOTIFY']['CLIENT_SECRET']\n",
    "bot_deats = [insta_u, insta_p,\n",
    "                google_key_file,\n",
    "                spotify_client_id,\n",
    "                spotify_client_secret,\n",
    "                google_api_key]"
   ]
  },
  {
   "cell_type": "markdown",
   "metadata": {},
   "source": [
    "## Get data"
   ]
  },
  {
   "cell_type": "code",
   "execution_count": null,
   "metadata": {
    "ExecuteTime": {
     "end_time": "2020-01-04T01:23:21.808333Z",
     "start_time": "2020-01-04T01:23:18.528595Z"
    }
   },
   "outputs": [],
   "source": [
    "client = Bot(*bot_deats)\n",
    "df = client.GSpread.get_raw_logs_as_df()\n",
    "df.head()"
   ]
  },
  {
   "cell_type": "markdown",
   "metadata": {},
   "source": [
    "## Prep Data"
   ]
  },
  {
   "cell_type": "code",
   "execution_count": null,
   "metadata": {
    "ExecuteTime": {
     "end_time": "2020-01-04T01:24:19.794908Z",
     "start_time": "2020-01-04T01:24:19.789545Z"
    }
   },
   "outputs": [],
   "source": [
    "def clean_data(df):\n",
    "    \"\"\"\n",
    "    Function that cleans the data from the sheet to a clean format\n",
    "    \"\"\"\n",
    "    df.DATETIME = pd.to_datetime(df.DATETIME, format='%d/%m/%Y %H:%M:%S')\n",
    "    #Add day for aggregations\n",
    "    df['DATETIME_D'] = df.DATETIME.dt.round('D')\n",
    "    \n",
    "    spotify_df = df[(df.PLATFORM == 'SPOTIFY') & (df.SONG != '')]\n",
    "    youtube_df = df[(df.PLATFORM == 'YOUTUBE') & (df.SONG != '')]\n",
    "    instagram_df = df[df.PLATFORM == 'INSTAGRAM']\n",
    "    \n",
    "    return df, spotify_df, youtube_df, instagram_df"
   ]
  },
  {
   "cell_type": "code",
   "execution_count": null,
   "metadata": {
    "ExecuteTime": {
     "end_time": "2020-01-04T01:24:19.911672Z",
     "start_time": "2020-01-04T01:24:19.900900Z"
    }
   },
   "outputs": [],
   "source": [
    "df, spotify_df, youtube_df, instagram_df = clean_data(df)"
   ]
  },
  {
   "cell_type": "markdown",
   "metadata": {},
   "source": [
    "## Graphs"
   ]
  },
  {
   "cell_type": "markdown",
   "metadata": {},
   "source": [
    "### Spotify"
   ]
  },
  {
   "cell_type": "code",
   "execution_count": null,
   "metadata": {
    "ExecuteTime": {
     "end_time": "2020-01-04T01:24:28.881596Z",
     "start_time": "2020-01-04T01:24:28.870142Z"
    }
   },
   "outputs": [],
   "source": [
    "spotify_df.head()"
   ]
  },
  {
   "cell_type": "code",
   "execution_count": null,
   "metadata": {
    "ExecuteTime": {
     "end_time": "2020-01-04T01:24:33.466573Z",
     "start_time": "2020-01-04T01:24:32.101441Z"
    }
   },
   "outputs": [],
   "source": [
    "fig = px.scatter(spotify_df,\n",
    "                 x='DATETIME',\n",
    "                 y='VALUE',\n",
    "                 color='SONG',\n",
    "                 title='Spotify song streams',\n",
    "                 template='plotly_dark').update_traces(mode='lines+markers')\n",
    "fig"
   ]
  },
  {
   "cell_type": "markdown",
   "metadata": {},
   "source": [
    "### Youtube"
   ]
  },
  {
   "cell_type": "code",
   "execution_count": null,
   "metadata": {
    "ExecuteTime": {
     "end_time": "2020-01-04T01:24:53.875777Z",
     "start_time": "2020-01-04T01:24:53.863906Z"
    }
   },
   "outputs": [],
   "source": [
    "youtube_df.head()"
   ]
  },
  {
   "cell_type": "code",
   "execution_count": null,
   "metadata": {
    "ExecuteTime": {
     "end_time": "2020-01-04T01:24:57.209537Z",
     "start_time": "2020-01-04T01:24:56.852705Z"
    }
   },
   "outputs": [],
   "source": [
    "fig = px.scatter_3d(youtube_df.sort_values(by='DATETIME'),\n",
    "                 x='DATETIME',\n",
    "                 y='MESSAGE',\n",
    "                 z='VALUE',\n",
    "                 color='SONG',\n",
    "                 log_z=True,\n",
    "                 title=f'Youtube Stats',\n",
    "                 template='plotly_dark')#.update_traces(mode='lines+markers')\n",
    "fig"
   ]
  },
  {
   "cell_type": "markdown",
   "metadata": {},
   "source": [
    "### Instagram"
   ]
  },
  {
   "cell_type": "code",
   "execution_count": null,
   "metadata": {
    "ExecuteTime": {
     "end_time": "2020-01-04T01:25:09.337955Z",
     "start_time": "2020-01-04T01:25:09.327190Z"
    }
   },
   "outputs": [],
   "source": [
    "instagram_df.head()"
   ]
  },
  {
   "cell_type": "code",
   "execution_count": null,
   "metadata": {
    "ExecuteTime": {
     "end_time": "2020-01-04T01:35:17.956356Z",
     "start_time": "2020-01-04T01:35:17.380639Z"
    }
   },
   "outputs": [],
   "source": [
    "fig = px.scatter(instagram_df[instagram_df.MESSAGE == 'FOLLOWER_COUNT'],\n",
    "                 x='DATETIME',\n",
    "                 y='VALUE',\n",
    "                 color_discrete_sequence=['#f3a55c'],\n",
    "                 title='Instagram Followers',\n",
    "                 template='plotly_dark').update_traces(mode='lines+markers')\n",
    "fig"
   ]
  },
  {
   "cell_type": "markdown",
   "metadata": {},
   "source": [
    "### Plays on all platforms"
   ]
  },
  {
   "cell_type": "code",
   "execution_count": null,
   "metadata": {
    "ExecuteTime": {
     "end_time": "2020-01-04T01:25:50.238265Z",
     "start_time": "2020-01-04T01:25:50.177380Z"
    }
   },
   "outputs": [],
   "source": [
    "plays_per_day_df = df[df.PLATFORM.isin(['YOUTUBE', 'SPOTIFY']) &\n",
    "             (df.SONG != '') & \n",
    "             (df.MESSAGE.isin(['PLAYS', 'VIEWCOUNT']))].\\\n",
    "drop('DATETIME', axis=1).drop_duplicates()\n",
    "plays_per_day_df.VALUE = plays_per_day_df.VALUE.astype(float)\n",
    "plays_per_day_df = plays_per_day_df.groupby(['SONG', 'PLATFORM','DATETIME_D']).max().reset_index()\n",
    "\n",
    "plays_per_day_df.head()"
   ]
  },
  {
   "cell_type": "code",
   "execution_count": null,
   "metadata": {
    "ExecuteTime": {
     "end_time": "2020-01-04T01:25:52.439420Z",
     "start_time": "2020-01-04T01:25:52.051564Z"
    }
   },
   "outputs": [],
   "source": [
    "fig = px.scatter(plays_per_day_df.groupby(['DATETIME_D', 'SONG']).sum().reset_index(),\n",
    "                 x='DATETIME_D',\n",
    "                 y='VALUE',\n",
    "                 color='SONG',\n",
    "                 title='Total Streams per song',\n",
    "                 template='plotly_dark').update_traces(mode='lines+markers')\n",
    "fig"
   ]
  },
  {
   "cell_type": "code",
   "execution_count": null,
   "metadata": {
    "ExecuteTime": {
     "end_time": "2020-01-04T01:26:10.532313Z",
     "start_time": "2020-01-04T01:26:09.870934Z"
    }
   },
   "outputs": [],
   "source": [
    "px.scatter(plays_per_day_df.sort_values(by='DATETIME_D'),\n",
    "              x='DATETIME_D',\n",
    "              y='VALUE',\n",
    "               facet_row='SONG',\n",
    "               height=2000,\n",
    "              color='PLATFORM',\n",
    "              template='plotly_dark').update_traces(mode='lines+markers')"
   ]
  },
  {
   "cell_type": "code",
   "execution_count": null,
   "metadata": {},
   "outputs": [],
   "source": []
  }
 ],
 "metadata": {
  "kernelspec": {
   "display_name": "Python 3",
   "language": "python",
   "name": "python3"
  },
  "language_info": {
   "codemirror_mode": {
    "name": "ipython",
    "version": 3
   },
   "file_extension": ".py",
   "mimetype": "text/x-python",
   "name": "python",
   "nbconvert_exporter": "python",
   "pygments_lexer": "ipython3",
   "version": "3.7.4"
  },
  "toc": {
   "base_numbering": 1,
   "nav_menu": {},
   "number_sections": true,
   "sideBar": true,
   "skip_h1_title": true,
   "title_cell": "Table of Contents",
   "title_sidebar": "Contents",
   "toc_cell": false,
   "toc_position": {},
   "toc_section_display": true,
   "toc_window_display": true
  }
 },
 "nbformat": 4,
 "nbformat_minor": 2
}
