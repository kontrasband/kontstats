{
 "cells": [
  {
   "cell_type": "markdown",
   "metadata": {},
   "source": [
    "# Graphs"
   ]
  },
  {
   "cell_type": "markdown",
   "metadata": {},
   "source": [
    "## Setup"
   ]
  },
  {
   "cell_type": "code",
   "execution_count": null,
   "metadata": {
    "ExecuteTime": {
     "end_time": "2020-01-01T18:25:16.942906Z",
     "start_time": "2020-01-01T18:25:14.966277Z"
    }
   },
   "outputs": [],
   "source": [
    "import sys\n",
    "sys.path.append('../../src/')\n",
    "\n",
    "from utils.bot import Bot\n",
    "from configparser import ConfigParser\n",
    "import plotly.express as px\n",
    "from pathlib import Path"
   ]
  },
  {
   "cell_type": "code",
   "execution_count": null,
   "metadata": {
    "ExecuteTime": {
     "end_time": "2020-01-01T18:25:16.953551Z",
     "start_time": "2020-01-01T18:25:16.945107Z"
    }
   },
   "outputs": [],
   "source": [
    "config_file = Path('../../src/config.ini')\n",
    "assert config_file.exists(), f'{config_file} doesn\\'t exist.'\n",
    "config = ConfigParser()\n",
    "config.read(config_file)\n",
    "\n",
    "insta_u, insta_p = config['INSTAGRAM']['KONT_USERNAME'], config['INSTAGRAM']['KONT_PASSWORD']\n",
    "google_key_file = '../../src/keys/kontstats-d1e621a98972.json'\n",
    "google_api_key = config['GOOGLE']['API_KEY']\n",
    "spotify_client_id = config['SPOTIFY']['CLIENT_ID']\n",
    "spotify_client_secret = config['SPOTIFY']['CLIENT_SECRET']\n",
    "client_deats = [insta_u, insta_p,\n",
    "                google_key_file,\n",
    "                spotify_client_id,\n",
    "                spotify_client_secret,\n",
    "                google_api_key]"
   ]
  },
  {
   "cell_type": "markdown",
   "metadata": {},
   "source": [
    "## Get data"
   ]
  },
  {
   "cell_type": "code",
   "execution_count": null,
   "metadata": {
    "ExecuteTime": {
     "end_time": "2020-01-01T18:25:27.907254Z",
     "start_time": "2020-01-01T18:25:16.956217Z"
    }
   },
   "outputs": [],
   "source": [
    "client = Bot(*client_deats)\n",
    "df = client.Google.get_raw_logs_as_df()"
   ]
  },
  {
   "cell_type": "code",
   "execution_count": null,
   "metadata": {
    "ExecuteTime": {
     "end_time": "2020-01-01T18:25:27.917987Z",
     "start_time": "2020-01-01T18:25:27.910467Z"
    }
   },
   "outputs": [],
   "source": [
    "df.MESSAGE.unique()"
   ]
  },
  {
   "cell_type": "code",
   "execution_count": null,
   "metadata": {
    "ExecuteTime": {
     "end_time": "2020-01-01T18:25:27.935454Z",
     "start_time": "2020-01-01T18:25:27.920678Z"
    }
   },
   "outputs": [],
   "source": [
    "df.DATETIME = df.DATETIME.astype('datetime64[ns]')"
   ]
  },
  {
   "cell_type": "code",
   "execution_count": null,
   "metadata": {
    "ExecuteTime": {
     "end_time": "2020-01-01T18:25:30.954247Z",
     "start_time": "2020-01-01T18:25:30.935602Z"
    }
   },
   "outputs": [],
   "source": [
    "df.head()"
   ]
  },
  {
   "cell_type": "markdown",
   "metadata": {},
   "source": [
    "## Graphs"
   ]
  },
  {
   "cell_type": "markdown",
   "metadata": {},
   "source": [
    "### Spotify"
   ]
  },
  {
   "cell_type": "code",
   "execution_count": null,
   "metadata": {
    "ExecuteTime": {
     "end_time": "2020-01-01T18:29:29.146998Z",
     "start_time": "2020-01-01T18:29:29.135203Z"
    }
   },
   "outputs": [],
   "source": [
    "spot_df = df[df.PLATFORM == 'SPOTIFY']\n",
    "spot_df.head()"
   ]
  },
  {
   "cell_type": "code",
   "execution_count": null,
   "metadata": {
    "ExecuteTime": {
     "end_time": "2020-01-01T18:29:29.964306Z",
     "start_time": "2020-01-01T18:29:29.459993Z"
    }
   },
   "outputs": [],
   "source": [
    "fig = px.scatter(spot_df,\n",
    "                 x='DATETIME',\n",
    "                 y='VALUE',\n",
    "                 color='SONG',\n",
    "                 title='Spotify song streams',\n",
    "                 template='plotly_dark').update_traces(mode='lines+markers')\n",
    "fig"
   ]
  },
  {
   "cell_type": "markdown",
   "metadata": {},
   "source": [
    "### Youtube"
   ]
  },
  {
   "cell_type": "code",
   "execution_count": null,
   "metadata": {
    "ExecuteTime": {
     "end_time": "2020-01-01T18:29:33.039697Z",
     "start_time": "2020-01-01T18:29:33.028492Z"
    }
   },
   "outputs": [],
   "source": [
    "yt_df = df[df.PLATFORM == 'YOUTUBE']\n",
    "yt_df.head()"
   ]
  },
  {
   "cell_type": "code",
   "execution_count": null,
   "metadata": {
    "ExecuteTime": {
     "end_time": "2020-01-01T18:30:08.462726Z",
     "start_time": "2020-01-01T18:30:08.131336Z"
    }
   },
   "outputs": [],
   "source": [
    "yt_stat = 'LIKECOUNT'\n",
    "fig = px.scatter(yt_df[yt_df.MESSAGE == yt_stat],\n",
    "                 x='DATETIME',\n",
    "                 y='VALUE',\n",
    "                 color='SONG',\n",
    "                 title=f'Youtube {yt_stat}',\n",
    "                 template='plotly_dark').update_traces(mode='lines+markers')\n",
    "fig"
   ]
  },
  {
   "cell_type": "code",
   "execution_count": null,
   "metadata": {},
   "outputs": [],
   "source": []
  }
 ],
 "metadata": {
  "kernelspec": {
   "display_name": "Python 3",
   "language": "python",
   "name": "python3"
  },
  "language_info": {
   "codemirror_mode": {
    "name": "ipython",
    "version": 3
   },
   "file_extension": ".py",
   "mimetype": "text/x-python",
   "name": "python",
   "nbconvert_exporter": "python",
   "pygments_lexer": "ipython3",
   "version": "3.7.4"
  },
  "toc": {
   "base_numbering": 1,
   "nav_menu": {},
   "number_sections": true,
   "sideBar": true,
   "skip_h1_title": true,
   "title_cell": "Table of Contents",
   "title_sidebar": "Contents",
   "toc_cell": false,
   "toc_position": {},
   "toc_section_display": true,
   "toc_window_display": true
  }
 },
 "nbformat": 4,
 "nbformat_minor": 2
}
