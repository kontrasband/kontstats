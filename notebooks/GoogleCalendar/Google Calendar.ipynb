{
 "cells": [
  {
   "cell_type": "markdown",
   "metadata": {},
   "source": [
    "# Google Calendar"
   ]
  },
  {
   "cell_type": "markdown",
   "metadata": {},
   "source": [
    "## Introductionn"
   ]
  },
  {
   "cell_type": "markdown",
   "metadata": {},
   "source": [
    "## Setup"
   ]
  },
  {
   "cell_type": "markdown",
   "metadata": {},
   "source": [
    "### Imports"
   ]
  },
  {
   "cell_type": "code",
   "execution_count": null,
   "metadata": {
    "ExecuteTime": {
     "end_time": "2020-01-04T19:10:34.128957Z",
     "start_time": "2020-01-04T19:10:33.538008Z"
    }
   },
   "outputs": [],
   "source": [
    "import sys\n",
    "sys.path.append('../../src/')\n",
    "\n",
    "from utils.constants import SUPPORTED_PLATFORMS, SUPPORTED_SONGS\n",
    "\n",
    "import pandas as pd\n",
    "import numpy as np\n",
    "\n",
    "from datetime import datetime, timezone\n",
    "import pickle\n",
    "import os.path\n",
    "from googleapiclient.discovery import build\n",
    "from google_auth_oauthlib.flow import InstalledAppFlow\n",
    "from google.auth.transport.requests import Request"
   ]
  },
  {
   "cell_type": "markdown",
   "metadata": {},
   "source": [
    "### Constants"
   ]
  },
  {
   "cell_type": "code",
   "execution_count": null,
   "metadata": {
    "ExecuteTime": {
     "end_time": "2020-01-04T19:10:34.931881Z",
     "start_time": "2020-01-04T19:10:34.929129Z"
    }
   },
   "outputs": [],
   "source": [
    "KONTRAS_CALENDAR_ID = 'jm4irm09dtur36oski2kighdug@group.calendar.google.com'"
   ]
  },
  {
   "cell_type": "markdown",
   "metadata": {},
   "source": [
    "### Create Client"
   ]
  },
  {
   "cell_type": "code",
   "execution_count": null,
   "metadata": {
    "ExecuteTime": {
     "end_time": "2020-01-04T19:10:37.908599Z",
     "start_time": "2020-01-04T19:10:35.741700Z"
    }
   },
   "outputs": [],
   "source": [
    "# If modifying these scopes, delete the file token.pickle.\n",
    "SCOPES = ['https://www.googleapis.com/auth/calendar.readonly']\n",
    "\n",
    "\n",
    "\"\"\"Shows basic usage of the Google Calendar API.\n",
    "Prints the start and name of the next 10 events on the user's calendar.\n",
    "\"\"\"\n",
    "creds = None\n",
    "# The file token.pickle stores the user's access and refresh tokens, and is\n",
    "# created automatically when the authorization flow completes for the first\n",
    "# time.\n",
    "if os.path.exists('token.pickle'):\n",
    "    with open('token.pickle', 'rb') as token:\n",
    "        creds = pickle.load(token)\n",
    "# If there are no (valid) credentials available, let the user log in.\n",
    "if not creds or not creds.valid:\n",
    "    if creds and creds.expired and creds.refresh_token:\n",
    "        creds.refresh(Request())\n",
    "    else:\n",
    "        flow = InstalledAppFlow.from_client_secrets_file(\n",
    "            'credentials.json', SCOPES)\n",
    "        creds = flow.run_local_server(port=0)\n",
    "    # Save the credentials for the next run\n",
    "    with open('token.pickle', 'wb') as token:\n",
    "        pickle.dump(creds, token)\n",
    "\n",
    "service = build('calendar', 'v3', credentials=creds)"
   ]
  },
  {
   "cell_type": "markdown",
   "metadata": {},
   "source": [
    "## Query Calendar"
   ]
  },
  {
   "cell_type": "code",
   "execution_count": null,
   "metadata": {
    "ExecuteTime": {
     "end_time": "2020-01-04T19:10:37.914274Z",
     "start_time": "2020-01-04T19:10:37.910564Z"
    }
   },
   "outputs": [],
   "source": [
    "def clean_datetime(dt):\n",
    "    if type(dt) != float:\n",
    "        return dt.replace('T',' ').replace('+02:00','')\n",
    "    else: \n",
    "        return dt"
   ]
  },
  {
   "cell_type": "code",
   "execution_count": null,
   "metadata": {
    "ExecuteTime": {
     "end_time": "2020-01-04T19:16:14.780157Z",
     "start_time": "2020-01-04T19:16:14.770225Z"
    }
   },
   "outputs": [],
   "source": [
    "def get_events(calendar_id ,start_date, end_date):\n",
    "    \"\"\"\n",
    "    Function that gets all the events for calendar_id for the date range.\n",
    "    \n",
    "    Parameters\n",
    "    calendar_id(str): Google Calendar ID\n",
    "    start_date(str): Start date in the format '2019-01-20'\n",
    "    end_date(str): End date in the format '2019-01-20'\n",
    "    \"\"\"\n",
    "    \n",
    "    s_year, s_month, s_day = start_date.split('-')\n",
    "    e_year, e_month, e_day = end_date.split('-')\n",
    "    \n",
    "    s_date = datetime(int(s_year), int(s_month), int(s_day), \n",
    "                      0, 0, 0, 0).isoformat() + 'Z'\n",
    "    e_date = datetime(int(e_year), int(e_month), int(e_day), \n",
    "                      23, 59, 59, 0).isoformat() + 'Z'\n",
    "    \n",
    "    events_result = service.events().\\\n",
    "    list(calendarId=KONTRAS_CALENDAR_ID, \n",
    "         timeMin=s_date,\n",
    "         timeMax=e_date,\n",
    "         maxResults=2500, \n",
    "         singleEvents=True,\n",
    "         orderBy='startTime').execute()\n",
    "\n",
    "    df = pd.DataFrame(events_result.get('items', []))\n",
    "    \n",
    "    df['start'] = pd.to_datetime(df.start.\\\n",
    "                             apply(lambda x: clean_datetime(x.get('dateTime', \n",
    "                                                                  np.NAN))), \n",
    "              format='%Y-%m-%d %H:%M:%S')\n",
    "    df['end'] = pd.to_datetime(df.end.\\\n",
    "                                 apply(lambda x: clean_datetime(x.get('dateTime', \n",
    "                                                                      np.NAN))), \n",
    "                  format='%Y-%m-%d %H:%M:%S')\n",
    "    \n",
    "    return df"
   ]
  },
  {
   "cell_type": "code",
   "execution_count": null,
   "metadata": {
    "ExecuteTime": {
     "end_time": "2020-01-04T19:10:38.583936Z",
     "start_time": "2020-01-04T19:10:37.932486Z"
    }
   },
   "outputs": [],
   "source": [
    "df = get_events(KONTRAS_CALENDAR_ID, '2019-08-01', '2020-01-05')"
   ]
  },
  {
   "cell_type": "code",
   "execution_count": null,
   "metadata": {
    "ExecuteTime": {
     "end_time": "2020-01-04T19:10:38.598326Z",
     "start_time": "2020-01-04T19:10:38.586543Z"
    }
   },
   "outputs": [],
   "source": [
    "df.start.min(), df.start.max()"
   ]
  },
  {
   "cell_type": "code",
   "execution_count": null,
   "metadata": {
    "ExecuteTime": {
     "end_time": "2020-01-04T19:10:39.014184Z",
     "start_time": "2020-01-04T19:10:39.008977Z"
    }
   },
   "outputs": [],
   "source": [
    "df.summary.unique()"
   ]
  },
  {
   "cell_type": "markdown",
   "metadata": {},
   "source": [
    "## Define Codes"
   ]
  },
  {
   "cell_type": "markdown",
   "metadata": {},
   "source": [
    "Calendar entry structure:\n",
    "\n",
    "```\n",
    "Release 24\n",
    "\n",
    "@KONTRAS_EVENT\n",
    "PLATFORM: Spotify\n",
    "GCAL_CODE: SONG_RELEASE\n",
    "SONG: 24\n",
    "MESSAGE: Releasing 24\n",
    "VALUE: \n",
    "```\n",
    "\n",
    "Where:\n",
    "\n",
    "+ `@KONTRAS_EVENT` is an indicator that the event needs to be parsed by the bot\n",
    "+ `PLATFORM`, as defined in SUPPORTED_PLATFORMS\n",
    "+ `GCAL_CODE`, we'll define these now\n",
    "+ `SONG`, as defined in SUPPORTED_SONGS\n",
    "+ `MESSAGE`, any string\n",
    "+ `VALUE`, any string"
   ]
  },
  {
   "cell_type": "markdown",
   "metadata": {},
   "source": [
    "### GCAL_CODES\n",
    "\n",
    "`GCAL_CODES` for now.\n",
    "\n",
    "+ MARKETING_CAMPAIGN\n",
    "+ SONG_RELEASE\n",
    "+ GIG\n",
    "+ SONG_RECORD\n",
    "+ SOCIAL_MEDIA"
   ]
  },
  {
   "cell_type": "code",
   "execution_count": null,
   "metadata": {
    "ExecuteTime": {
     "end_time": "2020-01-04T19:13:05.794247Z",
     "start_time": "2020-01-04T19:13:05.791237Z"
    }
   },
   "outputs": [],
   "source": [
    "SUPPORTED_GCAL_CODES = ['MARKETING_CAMPAIGN',\n",
    "                        'SONG_RELEASE',\n",
    "                        'GIG',\n",
    "                        'SONG_RECORD',\n",
    "                        'SOCIAL_MEDIA']"
   ]
  },
  {
   "cell_type": "code",
   "execution_count": null,
   "metadata": {
    "ExecuteTime": {
     "end_time": "2020-01-04T19:29:42.814877Z",
     "start_time": "2020-01-04T19:29:42.403867Z"
    }
   },
   "outputs": [],
   "source": [
    "df = get_events(KONTRAS_CALENDAR_ID, \n",
    "                start_date='2020-01-17', \n",
    "                end_date='2020-03-19')"
   ]
  },
  {
   "cell_type": "code",
   "execution_count": null,
   "metadata": {
    "ExecuteTime": {
     "end_time": "2020-01-04T19:29:43.517490Z",
     "start_time": "2020-01-04T19:29:43.514714Z"
    }
   },
   "outputs": [],
   "source": [
    "def filter_valid_events(summary):\n",
    "    return '@KONTRAS_EVENT' in summary"
   ]
  },
  {
   "cell_type": "code",
   "execution_count": null,
   "metadata": {
    "ExecuteTime": {
     "end_time": "2020-01-04T19:29:43.943170Z",
     "start_time": "2020-01-04T19:29:43.938144Z"
    }
   },
   "outputs": [],
   "source": [
    "def parse_summary(summary):\n",
    "    payload = summary.split('@KONTRAS_EVENT')[1].strip()\n",
    "    items = payload.split('\\n')\n",
    "    result = {}\n",
    "    for item in items:\n",
    "        k, v = [i.strip() for i in item.split(':')]\n",
    "        result[k] = v\n",
    "    return result"
   ]
  },
  {
   "cell_type": "code",
   "execution_count": null,
   "metadata": {
    "ExecuteTime": {
     "end_time": "2020-01-04T19:29:44.338650Z",
     "start_time": "2020-01-04T19:29:44.329739Z"
    }
   },
   "outputs": [],
   "source": [
    "valid_events_df = df[df.summary.apply(lambda x: filter_valid_events(x))]\n",
    "valid_events_df.summary.apply(lambda x: parse_summary(x))"
   ]
  },
  {
   "cell_type": "code",
   "execution_count": null,
   "metadata": {
    "ExecuteTime": {
     "end_time": "2020-01-04T19:29:44.941116Z",
     "start_time": "2020-01-04T19:29:44.919321Z"
    }
   },
   "outputs": [],
   "source": [
    "valid_events_df"
   ]
  },
  {
   "cell_type": "markdown",
   "metadata": {},
   "source": [
    "## Drawing Campaign Plots"
   ]
  },
  {
   "cell_type": "code",
   "execution_count": null,
   "metadata": {
    "ExecuteTime": {
     "end_time": "2020-01-04T19:31:45.497441Z",
     "start_time": "2020-01-04T19:31:44.749214Z"
    }
   },
   "outputs": [],
   "source": [
    "import plotly.express as px"
   ]
  },
  {
   "cell_type": "code",
   "execution_count": null,
   "metadata": {
    "ExecuteTime": {
     "end_time": "2020-01-04T19:33:26.640609Z",
     "start_time": "2020-01-04T19:33:26.636265Z"
    }
   },
   "outputs": [],
   "source": [
    "valid_events_df['dummy_val'] = 10"
   ]
  },
  {
   "cell_type": "code",
   "execution_count": null,
   "metadata": {
    "ExecuteTime": {
     "end_time": "2020-01-04T19:47:31.758561Z",
     "start_time": "2020-01-04T19:47:31.467770Z"
    }
   },
   "outputs": [],
   "source": [
    "import plotly.graph_objects as go\n",
    "\n",
    "fig = go.Figure()\n",
    "\n",
    "for row in valid_events_df.iterrows():\n",
    "    _ = row[1]\n",
    "    start = _.start\n",
    "    end = _.end\n",
    "    details = parse_summary(_.summary)\n",
    "    \n",
    "    gcal_code = details.get('GCAL_CODE','NO_GCAL_CODE')\n",
    "    message = details.get('MESSAGE','NO_MESSAGE')\n",
    "    value = details.get('VALUE','NO_VALUE')\n",
    "    platform = details.get('PLATFORM','NO_PLATFORM')\n",
    "    song = details.get('SONG','NO_SONG')\n",
    "    \n",
    "    hover_text = message\n",
    "    \n",
    "    fig.add_trace(go.Scatter(x=[start, end], \n",
    "                             y=[2, 2],\n",
    "                             hoverinfo='text',\n",
    "                             hovertext=hover_text,\n",
    "                             fill='tozeroy')) # fill down to xaxis\n",
    "\n",
    "fig.update_layout(template='plotly_dark')\n",
    "fig.show()"
   ]
  },
  {
   "cell_type": "code",
   "execution_count": null,
   "metadata": {},
   "outputs": [],
   "source": []
  }
 ],
 "metadata": {
  "kernelspec": {
   "display_name": "Python 3",
   "language": "python",
   "name": "python3"
  },
  "language_info": {
   "codemirror_mode": {
    "name": "ipython",
    "version": 3
   },
   "file_extension": ".py",
   "mimetype": "text/x-python",
   "name": "python",
   "nbconvert_exporter": "python",
   "pygments_lexer": "ipython3",
   "version": "3.7.4"
  },
  "toc": {
   "base_numbering": 1,
   "nav_menu": {},
   "number_sections": true,
   "sideBar": true,
   "skip_h1_title": true,
   "title_cell": "Table of Contents",
   "title_sidebar": "Contents",
   "toc_cell": false,
   "toc_position": {},
   "toc_section_display": true,
   "toc_window_display": true
  }
 },
 "nbformat": 4,
 "nbformat_minor": 2
}
