{
 "cells": [
  {
   "cell_type": "markdown",
   "metadata": {},
   "source": [
    "# Spotify"
   ]
  },
  {
   "cell_type": "markdown",
   "metadata": {},
   "source": [
    "We can get a lot of subtle stats on an automated bases daily using the Spotipy library. This notebook evaluates what metrics we might want to pull on a periodic basis. "
   ]
  },
  {
   "cell_type": "markdown",
   "metadata": {},
   "source": [
    "## Setup"
   ]
  },
  {
   "cell_type": "markdown",
   "metadata": {},
   "source": [
    "### Imports"
   ]
  },
  {
   "cell_type": "code",
   "execution_count": null,
   "metadata": {
    "ExecuteTime": {
     "end_time": "2019-12-30T08:48:12.003313Z",
     "start_time": "2019-12-30T08:48:10.689129Z"
    }
   },
   "outputs": [],
   "source": [
    "import spotipy\n",
    "import configparser\n",
    "import pandas as pd\n",
    "import numpy as np\n",
    "import plotly.express as px\n",
    "from spotipy.oauth2 import SpotifyClientCredentials as SCC"
   ]
  },
  {
   "cell_type": "code",
   "execution_count": null,
   "metadata": {
    "ExecuteTime": {
     "end_time": "2019-12-30T08:48:12.030918Z",
     "start_time": "2019-12-30T08:48:12.005339Z"
    }
   },
   "outputs": [],
   "source": [
    "country_codes = pd.read_csv('./data/country_codes.csv')\n",
    "country_codes.head()"
   ]
  },
  {
   "cell_type": "markdown",
   "metadata": {},
   "source": [
    "### Create Spotify object"
   ]
  },
  {
   "cell_type": "code",
   "execution_count": null,
   "metadata": {
    "ExecuteTime": {
     "end_time": "2019-12-30T08:48:12.038899Z",
     "start_time": "2019-12-30T08:48:12.033394Z"
    }
   },
   "outputs": [],
   "source": [
    "config = configparser.ConfigParser()\n",
    "config.read('config.ini')\n",
    "\n",
    "creds = SCC(client_id=config['SPOTIFY']['client_id'],\n",
    "            client_secret=config['SPOTIFY']['client_secret'])\n",
    "spotify = spotipy.Spotify(client_credentials_manager=creds)"
   ]
  },
  {
   "cell_type": "markdown",
   "metadata": {},
   "source": [
    "## Querying Kontras"
   ]
  },
  {
   "cell_type": "code",
   "execution_count": null,
   "metadata": {
    "ExecuteTime": {
     "end_time": "2019-12-30T08:48:12.044012Z",
     "start_time": "2019-12-30T08:48:12.040874Z"
    }
   },
   "outputs": [],
   "source": [
    "kontras_uri = config['SPOTIFY']['kontras_uri']\n",
    "artist_uri = 'spotify:artist:7JL8PgOQe05PjPZtwBfR8x'"
   ]
  },
  {
   "cell_type": "code",
   "execution_count": null,
   "metadata": {
    "ExecuteTime": {
     "end_time": "2019-12-30T08:48:13.855290Z",
     "start_time": "2019-12-30T08:48:12.046021Z"
    }
   },
   "outputs": [],
   "source": [
    "albums = spotify.artist_albums(artist_uri)\n",
    "artist = spotify.artist(artist_uri)"
   ]
  },
  {
   "cell_type": "code",
   "execution_count": null,
   "metadata": {
    "ExecuteTime": {
     "end_time": "2019-12-30T08:48:13.863443Z",
     "start_time": "2019-12-30T08:48:13.857133Z"
    }
   },
   "outputs": [],
   "source": [
    "artist"
   ]
  },
  {
   "cell_type": "code",
   "execution_count": null,
   "metadata": {
    "ExecuteTime": {
     "end_time": "2019-12-30T08:48:13.871258Z",
     "start_time": "2019-12-30T08:48:13.866017Z"
    }
   },
   "outputs": [],
   "source": [
    "keys_to_keep = ['artist','available_markets',\n",
    "                'disc_number','duration_ms',\n",
    "                'explicit','name','track_number',\n",
    "                'type','uri']"
   ]
  },
  {
   "cell_type": "code",
   "execution_count": null,
   "metadata": {
    "ExecuteTime": {
     "end_time": "2019-12-30T08:48:27.021201Z",
     "start_time": "2019-12-30T08:48:13.874468Z"
    }
   },
   "outputs": [],
   "source": [
    "tracks_df = pd.DataFrame()\n",
    "for album in albums['items']:\n",
    "    print(f'Processing {album[\"name\"]}')\n",
    "    album_tracks = spotify.album_tracks(album['uri'])['items']\n",
    "    for track in album_tracks:\n",
    "        track['artist'] = track['artists'][0]['name']\n",
    "        track['available_markets'] = ','.join(track['available_markets'])\n",
    "        track_df = pd.DataFrame({k:track[k] for k in keys_to_keep}, index=[1])\n",
    "        tracks_df = pd.concat([tracks_df, track_df])"
   ]
  },
  {
   "cell_type": "markdown",
   "metadata": {},
   "source": [
    "### Song Features"
   ]
  },
  {
   "cell_type": "code",
   "execution_count": null,
   "metadata": {
    "ExecuteTime": {
     "end_time": "2019-12-30T08:48:27.528667Z",
     "start_time": "2019-12-30T08:48:27.023994Z"
    }
   },
   "outputs": [],
   "source": [
    "audio_features = spotify.audio_features(tracks_df.uri.values[0:10])\n",
    "audio_features_df = pd.DataFrame(audio_features).drop(['type', 'duration_ms'], axis=1)\n",
    "df = tracks_df.merge(audio_features_df, on='uri')\n",
    "df.loudness = np.log((df.loudness * -1)-2)\n",
    "melted_features_df = df[['name','danceability','energy','loudness',\n",
    "                      'speechiness','acousticness','instrumentalness',\n",
    "                      'liveness','valence']].melt(id_vars='name')"
   ]
  },
  {
   "cell_type": "code",
   "execution_count": null,
   "metadata": {
    "ExecuteTime": {
     "end_time": "2019-12-30T08:48:29.166089Z",
     "start_time": "2019-12-30T08:48:27.533981Z"
    }
   },
   "outputs": [],
   "source": [
    "px.bar(melted_features_df,\n",
    "       x='variable',\n",
    "       y='value',\n",
    "       color='name',\n",
    "       barmode='group',\n",
    "       title='Fokof Discography Spotify Attributes',\n",
    "      template='plotly_dark')"
   ]
  },
  {
   "cell_type": "markdown",
   "metadata": {},
   "source": [
    "## Playlists"
   ]
  },
  {
   "cell_type": "code",
   "execution_count": null,
   "metadata": {
    "ExecuteTime": {
     "end_time": "2019-12-30T08:50:23.480763Z",
     "start_time": "2019-12-30T08:50:22.976385Z"
    },
    "scrolled": true
   },
   "outputs": [],
   "source": [
    "spotify.categories()"
   ]
  },
  {
   "cell_type": "code",
   "execution_count": null,
   "metadata": {
    "ExecuteTime": {
     "end_time": "2019-12-30T09:07:15.001316Z",
     "start_time": "2019-12-30T09:07:14.997480Z"
    }
   },
   "outputs": [],
   "source": [
    "arnold_uri = 'spotify:user:ueas3f07becuptaz4grd5huho'\n",
    "andrew_uri = 'spotify:user:21r3nvcdxhyd4t5nzo3br56fy'\n",
    "louwrens_uri = 'spotify:user:m7klrf290iwgyn4tm0qxlzfn0'\n",
    "louwrens_id = 'm7klrf290iwgyn4tm0qxlzfn0'\n",
    "fairly_local_playlist_uri = 'spotify:playlist:15vjNBeFwKvWcA1KyqStjU'"
   ]
  },
  {
   "cell_type": "code",
   "execution_count": null,
   "metadata": {
    "ExecuteTime": {
     "end_time": "2019-12-30T09:06:35.741506Z",
     "start_time": "2019-12-30T09:06:35.206241Z"
    }
   },
   "outputs": [],
   "source": [
    "playlists = spotify.user_playlists('Louwrens')\n",
    "while playlists:\n",
    "    for i, playlist in enumerate(playlists['items']):\n",
    "        print(\"%4d %s %s\" % (i + 1 + playlists['offset'], playlist['uri'],  playlist['name']))\n",
    "    if playlists['next']:\n",
    "        playlists = sp.next(playlists)\n",
    "    else:\n",
    "        playlists = None"
   ]
  },
  {
   "cell_type": "code",
   "execution_count": null,
   "metadata": {
    "ExecuteTime": {
     "end_time": "2019-12-30T09:08:04.667157Z",
     "start_time": "2019-12-30T09:08:03.957578Z"
    }
   },
   "outputs": [],
   "source": [
    "spotify.user_playlist(louwrens_id)"
   ]
  },
  {
   "cell_type": "code",
   "execution_count": null,
   "metadata": {
    "ExecuteTime": {
     "end_time": "2019-12-30T09:00:46.452739Z",
     "start_time": "2019-12-30T09:00:45.891951Z"
    }
   },
   "outputs": [],
   "source": [
    "spotify.user(andrew_uri)"
   ]
  },
  {
   "cell_type": "code",
   "execution_count": null,
   "metadata": {
    "ExecuteTime": {
     "end_time": "2019-12-30T08:54:23.838009Z",
     "start_time": "2019-12-30T08:54:22.667356Z"
    }
   },
   "outputs": [],
   "source": [
    "spotify.user_playlist_tracks(arnold_uri, fairly_local_playlist_uri)"
   ]
  },
  {
   "cell_type": "code",
   "execution_count": null,
   "metadata": {},
   "outputs": [],
   "source": []
  },
  {
   "cell_type": "code",
   "execution_count": null,
   "metadata": {
    "ExecuteTime": {
     "end_time": "2019-12-30T08:53:11.206282Z",
     "start_time": "2019-12-30T08:53:10.521Z"
    }
   },
   "outputs": [],
   "source": [
    "spotify.user_playlist_tracks(user=arnold_uri, playlist_id=)"
   ]
  },
  {
   "cell_type": "code",
   "execution_count": null,
   "metadata": {
    "ExecuteTime": {
     "end_time": "2019-12-30T08:50:44.787465Z",
     "start_time": "2019-12-30T08:50:44.155631Z"
    }
   },
   "outputs": [],
   "source": [
    "spotify.category_playlists('edm_dance')"
   ]
  },
  {
   "cell_type": "code",
   "execution_count": null,
   "metadata": {},
   "outputs": [],
   "source": []
  }
 ],
 "metadata": {
  "kernelspec": {
   "display_name": "Python 3",
   "language": "python",
   "name": "python3"
  },
  "language_info": {
   "codemirror_mode": {
    "name": "ipython",
    "version": 3
   },
   "file_extension": ".py",
   "mimetype": "text/x-python",
   "name": "python",
   "nbconvert_exporter": "python",
   "pygments_lexer": "ipython3",
   "version": "3.7.4"
  },
  "toc": {
   "base_numbering": 1,
   "nav_menu": {},
   "number_sections": true,
   "sideBar": true,
   "skip_h1_title": true,
   "title_cell": "Table of Contents",
   "title_sidebar": "Contents",
   "toc_cell": false,
   "toc_position": {},
   "toc_section_display": true,
   "toc_window_display": false
  }
 },
 "nbformat": 4,
 "nbformat_minor": 2
}
