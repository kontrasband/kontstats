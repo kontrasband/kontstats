{
 "cells": [
  {
   "cell_type": "markdown",
   "metadata": {},
   "source": [
    "# Spotify"
   ]
  },
  {
   "cell_type": "markdown",
   "metadata": {},
   "source": [
    "We can get a lot of subtle stats on an automated bases daily using the Spotipy library. This notebook evaluates what metrics we might want to pull on a periodic basis. "
   ]
  },
  {
   "cell_type": "markdown",
   "metadata": {},
   "source": [
    "## Setup"
   ]
  },
  {
   "cell_type": "markdown",
   "metadata": {},
   "source": [
    "### Imports"
   ]
  },
  {
   "cell_type": "code",
   "execution_count": null,
   "metadata": {
    "ExecuteTime": {
     "end_time": "2020-01-01T15:19:44.516357Z",
     "start_time": "2020-01-01T15:19:43.162559Z"
    }
   },
   "outputs": [],
   "source": [
    "import spotipy\n",
    "import configparser\n",
    "import pandas as pd\n",
    "import numpy as np\n",
    "import plotly.express as px\n",
    "from spotipy.oauth2 import SpotifyClientCredentials as SCC"
   ]
  },
  {
   "cell_type": "code",
   "execution_count": null,
   "metadata": {
    "ExecuteTime": {
     "end_time": "2020-01-01T15:19:44.554998Z",
     "start_time": "2020-01-01T15:19:44.522746Z"
    }
   },
   "outputs": [],
   "source": [
    "country_codes = pd.read_csv('./data/country_codes.csv')\n",
    "country_codes.head()"
   ]
  },
  {
   "cell_type": "markdown",
   "metadata": {},
   "source": [
    "### Create Spotify object"
   ]
  },
  {
   "cell_type": "code",
   "execution_count": null,
   "metadata": {
    "ExecuteTime": {
     "end_time": "2020-01-01T15:19:45.247273Z",
     "start_time": "2020-01-01T15:19:45.239840Z"
    }
   },
   "outputs": [],
   "source": [
    "config = configparser.ConfigParser()\n",
    "config.read('../../src/config.ini')\n",
    "\n",
    "creds = SCC(client_id=config['SPOTIFY']['client_id'],\n",
    "            client_secret=config['SPOTIFY']['client_secret'])\n",
    "spotify = spotipy.Spotify(client_credentials_manager=creds)"
   ]
  },
  {
   "cell_type": "markdown",
   "metadata": {},
   "source": [
    "## Querying Kontras"
   ]
  },
  {
   "cell_type": "code",
   "execution_count": null,
   "metadata": {
    "ExecuteTime": {
     "end_time": "2020-01-01T15:19:47.421218Z",
     "start_time": "2020-01-01T15:19:47.417977Z"
    }
   },
   "outputs": [],
   "source": [
    "kontras_uri = config['SPOTIFY']['kontras_uri']\n",
    "fokof_uri = 'spotify:artist:7JL8PgOQe05PjPZtwBfR8x'\n",
    "artist_uri = kontras_uri"
   ]
  },
  {
   "cell_type": "code",
   "execution_count": null,
   "metadata": {
    "ExecuteTime": {
     "end_time": "2020-01-01T15:19:49.477656Z",
     "start_time": "2020-01-01T15:19:48.575946Z"
    }
   },
   "outputs": [],
   "source": [
    "albums = spotify.artist_albums(artist_uri)\n",
    "artist = spotify.artist(artist_uri)"
   ]
  },
  {
   "cell_type": "code",
   "execution_count": null,
   "metadata": {
    "ExecuteTime": {
     "end_time": "2020-01-01T15:27:27.056488Z",
     "start_time": "2020-01-01T15:27:27.048698Z"
    }
   },
   "outputs": [],
   "source": [
    "albums"
   ]
  },
  {
   "cell_type": "code",
   "execution_count": null,
   "metadata": {
    "ExecuteTime": {
     "end_time": "2020-01-01T15:19:50.567430Z",
     "start_time": "2020-01-01T15:19:50.564053Z"
    }
   },
   "outputs": [],
   "source": [
    "keys_to_keep = ['artist','available_markets',\n",
    "                'disc_number','duration_ms',\n",
    "                'explicit','name','track_number',\n",
    "                'type','uri']"
   ]
  },
  {
   "cell_type": "code",
   "execution_count": null,
   "metadata": {
    "ExecuteTime": {
     "end_time": "2020-01-01T15:19:51.490388Z",
     "start_time": "2020-01-01T15:19:51.487681Z"
    }
   },
   "outputs": [],
   "source": [
    "import requests\n",
    "import json"
   ]
  },
  {
   "cell_type": "code",
   "execution_count": null,
   "metadata": {
    "ExecuteTime": {
     "end_time": "2020-01-01T15:19:52.481322Z",
     "start_time": "2020-01-01T15:19:52.475910Z"
    }
   },
   "outputs": [],
   "source": [
    "def get_albums_count(album_ids):\n",
    "    \"\"\"\n",
    "    Function that uses a server hosted on https://t4ils.dev:4433/api/beta/albumPlayCount \n",
    "    for https://github.com/evilarceus/Spotify-PlayCount that returns the playcount of an album\n",
    "    \n",
    "    Parameters\n",
    "    album_ids(list): list of album ids, ['5NJafKlvdUSssGlVG3nGuo', '2w1W2OrF3PW4eAuqdN0nVk']\n",
    "    \"\"\"\n",
    "    df = pd.DataFrame()\n",
    "    for album_id in album_ids:\n",
    "        resp = requests.get(f'https://t4ils.dev:4433/api/beta/albumPlayCount?albumid={album_id}')\n",
    "        data = json.loads(resp.text)['data']\n",
    "        df = pd.concat([df, pd.DataFrame(data)])\n",
    "    return df"
   ]
  },
  {
   "cell_type": "code",
   "execution_count": null,
   "metadata": {
    "ExecuteTime": {
     "end_time": "2020-01-01T15:32:49.803780Z",
     "start_time": "2020-01-01T15:32:46.856792Z"
    }
   },
   "outputs": [],
   "source": [
    "df = get_albums_count(['5NJafKlvdUSssGlVG3nGuo', '2w1W2OrF3PW4eAuqdN0nVk'])"
   ]
  },
  {
   "cell_type": "code",
   "execution_count": null,
   "metadata": {
    "ExecuteTime": {
     "end_time": "2020-01-01T15:32:50.762899Z",
     "start_time": "2020-01-01T15:32:50.751473Z"
    }
   },
   "outputs": [],
   "source": [
    "df = df[['name', 'playcount']]"
   ]
  },
  {
   "cell_type": "code",
   "execution_count": null,
   "metadata": {
    "ExecuteTime": {
     "end_time": "2020-01-01T15:33:20.780808Z",
     "start_time": "2020-01-01T15:33:20.773951Z"
    }
   },
   "outputs": [],
   "source": [
    "for row in df.iterrows():\n",
    "    print(row[1]['name'], row[1]['playcount'])"
   ]
  },
  {
   "cell_type": "code",
   "execution_count": null,
   "metadata": {
    "ExecuteTime": {
     "end_time": "2020-01-01T15:16:13.542276Z",
     "start_time": "2020-01-01T15:16:12.047039Z"
    }
   },
   "outputs": [],
   "source": [
    "albumid='5NJafKlvdUSssGlVG3nGuo'\n",
    "resp = requests.get(f'https://t4ils.dev:4433/api/beta/albumPlayCount?albumid={albumid}')\n",
    "data = json.loads(resp.text)['data']"
   ]
  },
  {
   "cell_type": "code",
   "execution_count": null,
   "metadata": {
    "ExecuteTime": {
     "end_time": "2020-01-01T15:16:54.765907Z",
     "start_time": "2020-01-01T15:16:54.756068Z"
    }
   },
   "outputs": [],
   "source": [
    "pd.DataFrame(data)"
   ]
  },
  {
   "cell_type": "code",
   "execution_count": null,
   "metadata": {
    "ExecuteTime": {
     "end_time": "2020-01-01T15:28:13.800234Z",
     "start_time": "2020-01-01T15:28:13.795157Z"
    }
   },
   "outputs": [],
   "source": [
    "[d['id'] for d in albums['items']]"
   ]
  },
  {
   "cell_type": "code",
   "execution_count": null,
   "metadata": {
    "ExecuteTime": {
     "end_time": "2020-01-01T15:16:47.627666Z",
     "start_time": "2020-01-01T15:16:44.197048Z"
    }
   },
   "outputs": [],
   "source": [
    "tracks_df = pd.DataFrame()\n",
    "for album in albums['items']:\n",
    "    print(f'Processing {album[\"name\"]}')\n",
    "    print(f'Plays: {get_album_playcount(album[\"id\"])}')\n",
    "    album_tracks = spotify.album_tracks(album['uri'])['items']\n",
    "    for track in album_tracks:\n",
    "        track['artist'] = track['artists'][0]['name']\n",
    "        track['available_markets'] = ','.join(track['available_markets'])\n",
    "        track_df = pd.DataFrame({k:track[k] for k in keys_to_keep}, index=[1])\n",
    "        tracks_df = pd.concat([tracks_df, track_df])"
   ]
  },
  {
   "cell_type": "code",
   "execution_count": null,
   "metadata": {
    "ExecuteTime": {
     "end_time": "2020-01-01T14:57:29.566616Z",
     "start_time": "2020-01-01T14:57:29.546321Z"
    }
   },
   "outputs": [],
   "source": [
    "tracks_df"
   ]
  },
  {
   "cell_type": "code",
   "execution_count": null,
   "metadata": {
    "ExecuteTime": {
     "end_time": "2020-01-01T14:59:22.252624Z",
     "start_time": "2020-01-01T14:59:21.963800Z"
    }
   },
   "outputs": [],
   "source": [
    "tracks = spotify.tracks(tracks_df.uri.values) "
   ]
  },
  {
   "cell_type": "code",
   "execution_count": null,
   "metadata": {
    "ExecuteTime": {
     "end_time": "2020-01-01T15:01:36.181327Z",
     "start_time": "2020-01-01T15:01:36.124976Z"
    }
   },
   "outputs": [],
   "source": [
    "pd.DataFrame(tracks['tracks'])"
   ]
  },
  {
   "cell_type": "code",
   "execution_count": null,
   "metadata": {},
   "outputs": [],
   "source": [
    "spotify."
   ]
  },
  {
   "cell_type": "markdown",
   "metadata": {},
   "source": [
    "### Song Features"
   ]
  },
  {
   "cell_type": "code",
   "execution_count": null,
   "metadata": {
    "ExecuteTime": {
     "end_time": "2019-12-30T08:48:27.528667Z",
     "start_time": "2019-12-30T08:48:27.023994Z"
    }
   },
   "outputs": [],
   "source": [
    "audio_features = spotify.audio_features(tracks_df.uri.values[0:10])\n",
    "audio_features_df = pd.DataFrame(audio_features).drop(['type', 'duration_ms'], axis=1)\n",
    "df = tracks_df.merge(audio_features_df, on='uri')\n",
    "df.loudness = np.log((df.loudness * -1)-2)\n",
    "melted_features_df = df[['name','danceability','energy','loudness',\n",
    "                      'speechiness','acousticness','instrumentalness',\n",
    "                      'liveness','valence']].melt(id_vars='name')"
   ]
  },
  {
   "cell_type": "code",
   "execution_count": null,
   "metadata": {
    "ExecuteTime": {
     "end_time": "2019-12-30T08:48:29.166089Z",
     "start_time": "2019-12-30T08:48:27.533981Z"
    }
   },
   "outputs": [],
   "source": [
    "px.bar(melted_features_df,\n",
    "       x='variable',\n",
    "       y='value',\n",
    "       color='name',\n",
    "       barmode='group',\n",
    "       title='Fokof Discography Spotify Attributes',\n",
    "      template='plotly_dark')"
   ]
  },
  {
   "cell_type": "markdown",
   "metadata": {},
   "source": [
    "## Playlists"
   ]
  },
  {
   "cell_type": "code",
   "execution_count": null,
   "metadata": {
    "ExecuteTime": {
     "end_time": "2019-12-30T08:50:23.480763Z",
     "start_time": "2019-12-30T08:50:22.976385Z"
    },
    "scrolled": true
   },
   "outputs": [],
   "source": [
    "spotify.categories()"
   ]
  },
  {
   "cell_type": "code",
   "execution_count": null,
   "metadata": {
    "ExecuteTime": {
     "end_time": "2019-12-30T09:07:15.001316Z",
     "start_time": "2019-12-30T09:07:14.997480Z"
    }
   },
   "outputs": [],
   "source": [
    "arnold_uri = 'spotify:user:ueas3f07becuptaz4grd5huho'\n",
    "andrew_uri = 'spotify:user:21r3nvcdxhyd4t5nzo3br56fy'\n",
    "louwrens_uri = 'spotify:user:m7klrf290iwgyn4tm0qxlzfn0'\n",
    "louwrens_id = 'm7klrf290iwgyn4tm0qxlzfn0'\n",
    "fairly_local_playlist_uri = 'spotify:playlist:15vjNBeFwKvWcA1KyqStjU'"
   ]
  },
  {
   "cell_type": "code",
   "execution_count": null,
   "metadata": {
    "ExecuteTime": {
     "end_time": "2019-12-30T09:06:35.741506Z",
     "start_time": "2019-12-30T09:06:35.206241Z"
    }
   },
   "outputs": [],
   "source": [
    "playlists = spotify.user_playlists('Louwrens')\n",
    "while playlists:\n",
    "    for i, playlist in enumerate(playlists['items']):\n",
    "        print(\"%4d %s %s\" % (i + 1 + playlists['offset'], playlist['uri'],  playlist['name']))\n",
    "    if playlists['next']:\n",
    "        playlists = sp.next(playlists)\n",
    "    else:\n",
    "        playlists = None"
   ]
  },
  {
   "cell_type": "code",
   "execution_count": null,
   "metadata": {
    "ExecuteTime": {
     "end_time": "2019-12-30T09:08:04.667157Z",
     "start_time": "2019-12-30T09:08:03.957578Z"
    }
   },
   "outputs": [],
   "source": [
    "spotify.user_playlist(louwrens_id)"
   ]
  },
  {
   "cell_type": "code",
   "execution_count": null,
   "metadata": {
    "ExecuteTime": {
     "end_time": "2019-12-30T09:00:46.452739Z",
     "start_time": "2019-12-30T09:00:45.891951Z"
    }
   },
   "outputs": [],
   "source": [
    "spotify.user(andrew_uri)"
   ]
  },
  {
   "cell_type": "code",
   "execution_count": null,
   "metadata": {
    "ExecuteTime": {
     "end_time": "2019-12-30T08:54:23.838009Z",
     "start_time": "2019-12-30T08:54:22.667356Z"
    }
   },
   "outputs": [],
   "source": [
    "spotify.user_playlist_tracks(arnold_uri, fairly_local_playlist_uri)"
   ]
  },
  {
   "cell_type": "code",
   "execution_count": null,
   "metadata": {},
   "outputs": [],
   "source": []
  },
  {
   "cell_type": "code",
   "execution_count": null,
   "metadata": {
    "ExecuteTime": {
     "end_time": "2019-12-30T08:53:11.206282Z",
     "start_time": "2019-12-30T08:53:10.521Z"
    }
   },
   "outputs": [],
   "source": [
    "spotify.user_playlist_tracks(user=arnold_uri, playlist_id=)"
   ]
  },
  {
   "cell_type": "code",
   "execution_count": null,
   "metadata": {
    "ExecuteTime": {
     "end_time": "2019-12-30T08:50:44.787465Z",
     "start_time": "2019-12-30T08:50:44.155631Z"
    }
   },
   "outputs": [],
   "source": [
    "spotify.category_playlists('edm_dance')"
   ]
  },
  {
   "cell_type": "code",
   "execution_count": null,
   "metadata": {},
   "outputs": [],
   "source": []
  }
 ],
 "metadata": {
  "kernelspec": {
   "display_name": "Python 3",
   "language": "python",
   "name": "python3"
  },
  "language_info": {
   "codemirror_mode": {
    "name": "ipython",
    "version": 3
   },
   "file_extension": ".py",
   "mimetype": "text/x-python",
   "name": "python",
   "nbconvert_exporter": "python",
   "pygments_lexer": "ipython3",
   "version": "3.7.4"
  },
  "toc": {
   "base_numbering": 1,
   "nav_menu": {},
   "number_sections": true,
   "sideBar": true,
   "skip_h1_title": true,
   "title_cell": "Table of Contents",
   "title_sidebar": "Contents",
   "toc_cell": false,
   "toc_position": {},
   "toc_section_display": true,
   "toc_window_display": false
  }
 },
 "nbformat": 4,
 "nbformat_minor": 2
}
